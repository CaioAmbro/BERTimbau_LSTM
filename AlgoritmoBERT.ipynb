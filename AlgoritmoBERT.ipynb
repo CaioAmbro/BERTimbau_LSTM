{
 "cells": [
  {
   "cell_type": "code",
   "execution_count": 10,
   "metadata": {},
   "outputs": [],
   "source": [
    "import pandas as pd\n",
    "from transformers import BertTokenizer, BertForSequenceClassification, pipeline\n",
    "from tqdm import tqdm  # Biblioteca para exibir a barra de progresso\n",
    "\n",
    "# Carregar o arquivo CSV e extrair a coluna 'Comentario'\n",
    "file_path = 'C:\\\\Users\\\\Caio\\\\Desktop\\\\TCC\\\\BASE_CIDADES.xlsx'\n",
    "df = pd.read_excel(file_path)"
   ]
  },
  {
   "cell_type": "code",
   "execution_count": 11,
   "metadata": {},
   "outputs": [],
   "source": [
    "# Verifique se a coluna 'Comentario' existe no arquivo\n",
    "if 'Comentario' not in df.columns:\n",
    "    raise ValueError(\"A coluna 'Comentario' não foi encontrada no arquivo.\")"
   ]
  },
  {
   "cell_type": "code",
   "execution_count": 12,
   "metadata": {},
   "outputs": [],
   "source": [
    "# Limpar dados, removendo NaNs e garantindo que todos os inputs sejam strings\n",
    "df = df.dropna(subset=['Comentario'])\n",
    "df['Comentario'] = df['Comentario'].astype(str)\n",
    "\n",
    "# Converter a coluna 'Comentario' para uma lista de inputs\n",
    "inputs = df['Comentario'].tolist()\n",
    "\n",
    "# Pasta que contém os arquivos do modelo\n",
    "model_path = r'C:\\Users\\Caio\\Desktop\\TCC\\fine_tuned_model'\n",
    "\n",
    "# Carregar o modelo e o tokenizer\n",
    "model = BertForSequenceClassification.from_pretrained(model_path)\n",
    "tokenizer = BertTokenizer.from_pretrained(model_path)\n",
    "\n",
    "# Criar o pipeline de classificação (usando top_k=None para obter todas as pontuações)\n",
    "classifier = pipeline('text-classification', model=model, tokenizer=tokenizer, top_k=None, truncation=True, max_length=512 ) # Limita a 512 tokens\n",
    "\n",
    "# Definir o threshold para filtragem de previsões\n",
    "threshold = 0.3"
   ]
  },
  {
   "cell_type": "code",
   "execution_count": null,
   "metadata": {},
   "outputs": [],
   "source": [
    "# Preparar listas para armazenar os resultados\n",
    "labels = []\n",
    "scores = []\n",
    "\n",
    "# Definir o tamanho do lote (batch size)\n",
    "batch_size = 20  # Você pode ajustar isso conforme necessário\n",
    "\n",
    "# Iterar pelas entradas em lotes\n",
    "for i in tqdm(range(0, len(inputs), batch_size), desc=\"Processando Comentários\"):\n",
    "    batch_inputs = inputs[i:i + batch_size]\n",
    "    predictions = classifier(batch_inputs)\n",
    "\n",
    "    for j, prediction in enumerate(predictions):\n",
    "        best_label = None\n",
    "        best_score = 0.0\n",
    "\n",
    "        for label in prediction:\n",
    "            if label['score'] >= threshold and label['score'] > best_score:\n",
    "                best_label = label['label']\n",
    "                best_score = label['score']\n",
    "\n",
    "        labels.append(best_label)\n",
    "        scores.append(best_score)\n",
    "\n",
    "# Adicionar as novas colunas ao DataFrame original\n",
    "df['Label'] = labels\n",
    "df['Score'] = scores\n",
    "\n",
    "# Defina o caminho para salvar o arquivo de saída como Excel\n",
    "output_file = 'C:\\\\Users\\\\Caio\\\\Desktop\\\\TCC\\\\resultados.xlsx'\n",
    "\n",
    "# Supondo que 'df' seja o DataFrame com os resultados que você quer salvar\n",
    "df.to_excel(output_file, index=False)\n",
    "\n",
    "print(f'Resultado salvo em: {output_file}')\n"
   ]
  }
 ],
 "metadata": {
  "kernelspec": {
   "display_name": "Python 3",
   "language": "python",
   "name": "python3"
  },
  "language_info": {
   "codemirror_mode": {
    "name": "ipython",
    "version": 3
   },
   "file_extension": ".py",
   "mimetype": "text/x-python",
   "name": "python",
   "nbconvert_exporter": "python",
   "pygments_lexer": "ipython3",
   "version": "3.11.7"
  }
 },
 "nbformat": 4,
 "nbformat_minor": 2
}
